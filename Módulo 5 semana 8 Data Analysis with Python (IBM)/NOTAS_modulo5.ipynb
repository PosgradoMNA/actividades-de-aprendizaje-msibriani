{
 "cells": [
  {
   "cell_type": "markdown",
   "metadata": {},
   "source": [
    "# **Maestría en Inteligencia Artificial Aplicada**\n",
    "## **Curso: Ciencia y analítica de datos**\n",
    "### Tecnológico de Monterrey"
   ]
  },
  {
   "cell_type": "markdown",
   "metadata": {},
   "source": [
    "#### **Nombre:** Matthias Sibrian Illescas\n",
    "#### **Matrícula:** a01794249"
   ]
  },
  {
   "cell_type": "markdown",
   "metadata": {},
   "source": [
    "# **Data Analysis with Python (IBM)**"
   ]
  },
  {
   "cell_type": "markdown",
   "metadata": {},
   "source": [
    "## **Módulo 4: Model Evaluation**"
   ]
  },
  {
   "cell_type": "markdown",
   "metadata": {},
   "source": [
    "Los modelos en general, se benefician por una gran cantidad de datos de entrenamiento. Por lo tanto, una de las funciones más importantes es la siguiente:\n",
    "\n",
    "**train_test_split()**: A través de esta función, se puede llevar a cabo la validación cruzada, que no es más que alternar agrupaciones de datos a medida que se expone un modelo al conjunto de entrenamiento.\n",
    "\n",
    "Otra función importante es la siguiente:\n",
    "\n",
    "**cross_val_score()**: Esta función permite obtener las métricas de desempeño de los modelos a medida que se exponen a los diferentes conjuntos de prueba y validación que se utilizan.\n",
    "\n"
   ]
  },
  {
   "cell_type": "markdown",
   "metadata": {},
   "source": [
    "La selección del modelo adecuado depende mucho de la data a modelar y cómo este puede o no ajustarse a los datos como tal. Es importante no caer en ninguna de las siguientes:\n",
    "\n",
    "**Overfitting**: Esto ocurre cuando la data tiene muchos componentes de alto grado (especialmente en las regresiones lineales), tal que se ajuste mucho al conjunto de prueba y no sirva mucho para el de validación.\n",
    "\n",
    "**Underfitting**: Esto ocurre cuando el desempeño del modelo es muy pobre en comparación con los desempeños deseados. Esto ocurre principalmente porque no se dejó a la etapa de entrenamiento ajustarse a los datos de una manera adecuada."
   ]
  },
  {
   "cell_type": "markdown",
   "metadata": {},
   "source": [
    "Otro aspecto importante a considerar en las regresiones lineales es los métodos de penalización. Estos son los siguientes: ridge y lasso.\n",
    "\n",
    "**Ridge**: Este método se utiliza bastante para evitar el overfitting. En él, no se llevan a cero los componentes de alto grado, sino que más se minimiza su participación en la salida.\n",
    "\n",
    "**Lasso**: Este método se usa tanto para evitar el overfitting, así como para hacer feature selection. Esto es básicamente poder escoger cuáles son los componentes de entrada de mayor provecho que se puede tener.\n",
    "\n",
    "Es importante recordar que ambos de estos modelos son susceptibles a magnitudes incrementadas de entrada, por lo que es útil escalarlas (las entradas). "
   ]
  },
  {
   "cell_type": "markdown",
   "metadata": {},
   "source": [
    "Por último, está el concepto de **GridSearchCV**. Esto no es más que un método iterativo a través del cual se utilizan valores de entrada para escoger un hiperparámetro utilizable a través del cual estén los parámetros óptimos para modelar ese hiperárámetro. \n",
    "\n",
    "Para ello, gridsearch se le define el modelo a iterar, así como un diccionario con los parámetros que se estarán utilizando para ajustar. Luego, el resultado final será la mejor combinación de esos parámetros, tales que se esté optimizando para la métrica escogida."
   ]
  }
 ],
 "metadata": {
  "kernelspec": {
   "display_name": "Python 3.9.12 ('base')",
   "language": "python",
   "name": "python3"
  },
  "language_info": {
   "name": "python",
   "version": "3.9.12"
  },
  "orig_nbformat": 4,
  "vscode": {
   "interpreter": {
    "hash": "8607d81fc6318cb05ed35a8010608a8fe3010a47ba3e0e927835a55241641039"
   }
  }
 },
 "nbformat": 4,
 "nbformat_minor": 2
}
