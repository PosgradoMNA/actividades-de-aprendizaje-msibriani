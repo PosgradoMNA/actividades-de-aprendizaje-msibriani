{
  "cells": [
    {
      "cell_type": "markdown",
      "metadata": {},
      "source": [
        "# **Módulo 4: Python for Data Science (IBM)**"
      ]
    },
    {
      "cell_type": "markdown",
      "metadata": {},
      "source": [
        "#### **Nombre:** Matthias Sibrian Illescas\n",
        "\n",
        "#### **Matrícula:** a01794249"
      ]
    },
    {
      "cell_type": "markdown",
      "metadata": {},
      "source": [
        "## **Módulo 4: Working with Data in Python**"
      ]
    },
    {
      "cell_type": "markdown",
      "metadata": {},
      "source": [
        "### **Reading Files with Open**"
      ]
    },
    {
      "cell_type": "markdown",
      "metadata": {},
      "source": [
        "En Python, para importar data, es crucial saber cómo abrir diferentes archivos de texto y convertirlos a un objeto utilizable. Una función importante para esto es 'open', la cual, en su forma básica, tiene la siguiente sintaxis:\n",
        "\n",
        "file = open('filename', 'mode')\n",
        "\n",
        "en donde el filename es la ruta del archivo a abrirse y el modo indica si se abrirá en modo lectur, escritura o append, que es básicamente dejar el resto de texto intacto y solo agregar líneas al final."
      ]
    },
    {
      "cell_type": "markdown",
      "metadata": {},
      "source": [
        "### **Lab - Reading Files**"
      ]
    },
    {
      "cell_type": "markdown",
      "metadata": {},
      "source": [
        "(Se realizó y se subió en la entrega de GitHub, en folder 'Labs')"
      ]
    },
    {
      "cell_type": "markdown",
      "metadata": {},
      "source": [
        "### **Writing Files with Open**"
      ]
    },
    {
      "cell_type": "markdown",
      "metadata": {},
      "source": [
        "La contraparte de abrir un archivo en modo de lectura es abrirlo en modo escritura. Con esta función, es posible crear un archivo de texto, aplicar el método y escribir data hacia un archivo externo el cual se podrá visualizar desde el explorador de archivos. Para ello, se debe respetar la sintaxis de la función, la cual es la siguiente:\n",
        "\n",
        "file = open(filename, mode)\n",
        "\n",
        "Como se ve, es la misma al caso anterior, solamente que, en este caso, debemos colocar el modo en modo de escritura con una 'w' o con 'w+', las cuales indican escribir una nueva línea o limpiar el archivo y luego escribir la línea. \n",
        "\n",
        "De la misma manera al caso anterior, se puede combinar la función open con la función with, de tal manera que se pueda automáticamente controlar la apertura y el cierre de ls archivos. Para hacer se puede hacer de la siguiente manera:\n",
        "\n",
        "with open('texto.txt', 'w') as file:\n",
        "\tfile.write('primera línea')\n",
        "\tfile.write('segunda línea')\n",
        "\t\n",
        "En este ejemplo dado, se estaría abriendo el archivo texto.txt en modo escritura para luego escribir dos líneas.\n",
        "\n",
        "Por último, se puede también incorporar un for loop para escribir elementos de forma iterativa hacia un file, aprovechando también del modo de escritura 'append'. Para hacer esto, se puede proceder de la siguiente manera:\n",
        "\n",
        "with open('texto.txt', 'w') as file:\n",
        "\tfor linea in lineas:\n",
        "\t\tfile.write(linea)\n",
        "\t\t\n",
        "Esto va a escribir iterativamente todo lo que esté disponible en el objeto líneas hacia el archivo."
      ]
    },
    {
      "cell_type": "markdown",
      "metadata": {},
      "source": [
        "### **Lab - Writing Files**"
      ]
    },
    {
      "cell_type": "markdown",
      "metadata": {},
      "source": [
        "(Se realizó y se subió en la entrega de GitHub, en folder 'Labs')"
      ]
    },
    {
      "cell_type": "markdown",
      "metadata": {},
      "source": [
        "### **Loading Data with Pandas**"
      ]
    },
    {
      "cell_type": "markdown",
      "metadata": {},
      "source": [
        "Pandas es una librería popular usada para el análisis de datos. Para importarla, se debe incluir el siguiente comando:"
      ]
    },
    {
      "cell_type": "code",
      "execution_count": 34,
      "metadata": {},
      "outputs": [],
      "source": [
        "import pandas as pd"
      ]
    },
    {
      "cell_type": "markdown",
      "metadata": {},
      "source": [
        "Debe estar instalada en el ambiente a usar. \n",
        "\n",
        "Un elemento básico y clave de Pandas es el DataFrame. Este es un objeto capaz de convertir un diccionario o un .csv en filas y columnas que son utilizables por todas las funciones de Pandas. Las llaves son los encabezados de la tabla, mientras que los valores de la lista, las series, son las filas o los registros de cada campo. \n",
        "\n",
        "Otro método importante es 'ix'. Con este se puede especificar el índice del registro en la serie de Pandas que se quiere accesar. La sintaxis es la siguiente:\n",
        "\n",
        "**DataFrame.ix[índice, 'nombre de campo']**"
      ]
    },
    {
      "cell_type": "markdown",
      "metadata": {},
      "source": [
        "#### **Quiz:** Ejercicios de Skills Network Labs (plataforma)"
      ]
    },
    {
      "cell_type": "code",
      "execution_count": 35,
      "metadata": {},
      "outputs": [
        {
          "data": {
            "text/html": [
              "<div>\n",
              "<style scoped>\n",
              "    .dataframe tbody tr th:only-of-type {\n",
              "        vertical-align: middle;\n",
              "    }\n",
              "\n",
              "    .dataframe tbody tr th {\n",
              "        vertical-align: top;\n",
              "    }\n",
              "\n",
              "    .dataframe thead th {\n",
              "        text-align: right;\n",
              "    }\n",
              "</style>\n",
              "<table border=\"1\" class=\"dataframe\">\n",
              "  <thead>\n",
              "    <tr style=\"text-align: right;\">\n",
              "      <th></th>\n",
              "      <th>a</th>\n",
              "      <th>b</th>\n",
              "    </tr>\n",
              "  </thead>\n",
              "  <tbody>\n",
              "    <tr>\n",
              "      <th>0</th>\n",
              "      <td>11</td>\n",
              "      <td>21</td>\n",
              "    </tr>\n",
              "    <tr>\n",
              "      <th>1</th>\n",
              "      <td>21</td>\n",
              "      <td>22</td>\n",
              "    </tr>\n",
              "    <tr>\n",
              "      <th>2</th>\n",
              "      <td>31</td>\n",
              "      <td>23</td>\n",
              "    </tr>\n",
              "  </tbody>\n",
              "</table>\n",
              "</div>"
            ],
            "text/plain": [
              "    a   b\n",
              "0  11  21\n",
              "1  21  22\n",
              "2  31  23"
            ]
          },
          "execution_count": 35,
          "metadata": {},
          "output_type": "execute_result"
        }
      ],
      "source": [
        "import pandas as banana\n",
        "\n",
        "df=banana.DataFrame({'a':[11,21,31],'b':[21,22,23]})\n",
        "\n",
        "df.head()"
      ]
    },
    {
      "cell_type": "markdown",
      "metadata": {},
      "source": [
        "### **Working with and Saving Data with Pandas**"
      ]
    },
    {
      "cell_type": "markdown",
      "metadata": {},
      "source": [
        "En Pandas, existe una manera muy conveniente de verificar cuáles son los valores únicos en un campo. Esto se hace a través del método unique(). La sintaxis es la siguiente:\n",
        "\n",
        "**df['nombre del campo'].unique()**\n",
        "\n",
        "En donde 'df' es el DataFrame en cuestión. \n",
        "\n",
        "Por otro lado, es posible utilizar el método 'to_csv' para guardar un DataFrame como un archivo separado de extensión .csv. La sintaxis es la siguiente:\n",
        "\n",
        "**df.to_csv('filename.csv')**\n",
        "\n",
        "Este código guardará el DataFrame como un archivo .csv en el directorio del .py que vamos a correr."
      ]
    },
    {
      "cell_type": "markdown",
      "metadata": {},
      "source": [
        "#### **Quiz:** Ejercicios de Skills Network Labs (plataforma)"
      ]
    },
    {
      "cell_type": "code",
      "execution_count": 36,
      "metadata": {},
      "outputs": [],
      "source": [
        "df=pd.DataFrame({'a':[1,2,1],'b':[1,1,1]})"
      ]
    },
    {
      "cell_type": "code",
      "execution_count": 37,
      "metadata": {},
      "outputs": [
        {
          "data": {
            "text/plain": [
              "0     True\n",
              "1    False\n",
              "2     True\n",
              "Name: a, dtype: bool"
            ]
          },
          "execution_count": 37,
          "metadata": {},
          "output_type": "execute_result"
        }
      ],
      "source": [
        "df['a']==1 "
      ]
    },
    {
      "cell_type": "code",
      "execution_count": 38,
      "metadata": {},
      "outputs": [],
      "source": [
        "df.to_csv(\"file.csv\")"
      ]
    },
    {
      "cell_type": "markdown",
      "metadata": {},
      "source": [
        "### **Lab - Loading Data and Viewing Data**"
      ]
    },
    {
      "cell_type": "markdown",
      "metadata": {},
      "source": [
        "(Se realizó y se subió en la entrega de GitHub, en folder 'Labs')"
      ]
    },
    {
      "cell_type": "markdown",
      "metadata": {},
      "source": [
        "### **Review Questions**"
      ]
    },
    {
      "cell_type": "code",
      "execution_count": 39,
      "metadata": {},
      "outputs": [
        {
          "name": "stdout",
          "output_type": "stream",
          "text": [
            "['This is line 1 \\n', 'This is line 2\\n', 'This is line 3']\n"
          ]
        }
      ],
      "source": [
        "with open(\"Example1.txt\",\"r\") as file1:\n",
        "\n",
        "    FileContent=file1.readlines()\n",
        "\n",
        "    print(FileContent)"
      ]
    },
    {
      "cell_type": "code",
      "execution_count": 40,
      "metadata": {},
      "outputs": [],
      "source": [
        "with open(\"Example2.txt\",\"w\") as writefile:\n",
        "\n",
        "    writefile.write(\"This is line A\\n\")\n",
        "\n",
        "    writefile.write(\"This is line B\\n\")"
      ]
    },
    {
      "cell_type": "code",
      "execution_count": 41,
      "metadata": {},
      "outputs": [],
      "source": [
        "with open(\"Example3.txt\",\"a\") as file1:\n",
        "\n",
        "    file1.write(\"This is line C\\n\")"
      ]
    },
    {
      "cell_type": "code",
      "execution_count": 42,
      "metadata": {},
      "outputs": [
        {
          "data": {
            "text/html": [
              "<div>\n",
              "<style scoped>\n",
              "    .dataframe tbody tr th:only-of-type {\n",
              "        vertical-align: middle;\n",
              "    }\n",
              "\n",
              "    .dataframe tbody tr th {\n",
              "        vertical-align: top;\n",
              "    }\n",
              "\n",
              "    .dataframe thead th {\n",
              "        text-align: right;\n",
              "    }\n",
              "</style>\n",
              "<table border=\"1\" class=\"dataframe\">\n",
              "  <thead>\n",
              "    <tr style=\"text-align: right;\">\n",
              "      <th></th>\n",
              "      <th>a</th>\n",
              "      <th>b</th>\n",
              "    </tr>\n",
              "  </thead>\n",
              "  <tbody>\n",
              "    <tr>\n",
              "      <th>0</th>\n",
              "      <td>1</td>\n",
              "      <td>1</td>\n",
              "    </tr>\n",
              "    <tr>\n",
              "      <th>1</th>\n",
              "      <td>2</td>\n",
              "      <td>1</td>\n",
              "    </tr>\n",
              "    <tr>\n",
              "      <th>2</th>\n",
              "      <td>1</td>\n",
              "      <td>1</td>\n",
              "    </tr>\n",
              "  </tbody>\n",
              "</table>\n",
              "</div>"
            ],
            "text/plain": [
              "   a  b\n",
              "0  1  1\n",
              "1  2  1\n",
              "2  1  1"
            ]
          },
          "execution_count": 42,
          "metadata": {},
          "output_type": "execute_result"
        }
      ],
      "source": [
        "df.head()"
      ]
    }
  ],
  "metadata": {
    "colab": {
      "name": "assignment01.ipynb",
      "provenance": []
    },
    "kernelspec": {
      "display_name": "Python 3.9.12 ('base')",
      "language": "python",
      "name": "python3"
    },
    "language_info": {
      "codemirror_mode": {
        "name": "ipython",
        "version": 3
      },
      "file_extension": ".py",
      "mimetype": "text/x-python",
      "name": "python",
      "nbconvert_exporter": "python",
      "pygments_lexer": "ipython3",
      "version": "3.9.12"
    },
    "vscode": {
      "interpreter": {
        "hash": "8607d81fc6318cb05ed35a8010608a8fe3010a47ba3e0e927835a55241641039"
      }
    }
  },
  "nbformat": 4,
  "nbformat_minor": 0
}
