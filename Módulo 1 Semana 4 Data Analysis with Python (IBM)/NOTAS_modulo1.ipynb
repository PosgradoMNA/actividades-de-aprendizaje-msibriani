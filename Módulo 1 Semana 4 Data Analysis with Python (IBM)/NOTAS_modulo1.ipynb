{
 "cells": [
  {
   "cell_type": "markdown",
   "metadata": {},
   "source": [
    "# **Maestría en Inteligencia Artificial Aplicada**\n",
    "## **Curso: Ciencia y analítica de datos (Grupo 10)**\n",
    "### Tecnológico de Monterrey\n",
    "### Prof Jobish Vallikavungal Devassia\n",
    "### 11 de octubre de 2022"
   ]
  },
  {
   "cell_type": "markdown",
   "metadata": {},
   "source": [
    "# **Módulo 1: Data Analysis with Python**"
   ]
  },
  {
   "cell_type": "markdown",
   "metadata": {},
   "source": [
    "#### **Nombre:** Matthias Sibrian Illescas\n",
    "\n",
    "#### **Matrícula:** a01794249"
   ]
  },
  {
   "cell_type": "markdown",
   "metadata": {},
   "source": [
    "## **Módulo 1: Introducción**"
   ]
  },
  {
   "cell_type": "markdown",
   "metadata": {},
   "source": [
    "Datos no es lo mismo que información. Para que la información sea útil, debe de poder servir de insumo para nuevos insights y entendimiento de un suceso. Esta es la habilidad demandada del analista de datos o data scientist."
   ]
  },
  {
   "cell_type": "markdown",
   "metadata": {},
   "source": [
    "En un dataset, cada atributo es un componente de los registros a considerar."
   ]
  },
  {
   "cell_type": "markdown",
   "metadata": {},
   "source": [
    "Algunas librerías útiles de Python:\n",
    "- Científicas: Pandas, NumPy, SciPy\n",
    "- DataViz: Seaborn, Matplotlib\n",
    "- ML: Sci-Kit Learn, Statsmodels"
   ]
  },
  {
   "cell_type": "markdown",
   "metadata": {},
   "source": [
    "Pandas es una librería muy útil para importar data. Los dos aspectos a considerar son:\n",
    "\n",
    "- Path\n",
    "- Formato"
   ]
  },
  {
   "cell_type": "markdown",
   "metadata": {},
   "source": [
    "La estructura de datos primaria de Pandas es el DataFrame. Este es una estructura tabular e indexada muy útil para guardar datos. A continuación, algunos comandos importantes de Pandas:"
   ]
  },
  {
   "cell_type": "markdown",
   "metadata": {},
   "source": [
    "**df.head()**\n",
    "\n",
    "**df.tail()**\n",
    "\n",
    "Sirven para ver los primeros registros del DataFrame y el final, respectivamente."
   ]
  },
  {
   "cell_type": "code",
   "execution_count": null,
   "metadata": {},
   "outputs": [],
   "source": []
  }
 ],
 "metadata": {
  "kernelspec": {
   "display_name": "Python 3.9.12 ('base')",
   "language": "python",
   "name": "python3"
  },
  "language_info": {
   "codemirror_mode": {
    "name": "ipython",
    "version": 3
   },
   "file_extension": ".py",
   "mimetype": "text/x-python",
   "name": "python",
   "nbconvert_exporter": "python",
   "pygments_lexer": "ipython3",
   "version": "3.9.12"
  },
  "orig_nbformat": 4,
  "vscode": {
   "interpreter": {
    "hash": "8607d81fc6318cb05ed35a8010608a8fe3010a47ba3e0e927835a55241641039"
   }
  }
 },
 "nbformat": 4,
 "nbformat_minor": 2
}
