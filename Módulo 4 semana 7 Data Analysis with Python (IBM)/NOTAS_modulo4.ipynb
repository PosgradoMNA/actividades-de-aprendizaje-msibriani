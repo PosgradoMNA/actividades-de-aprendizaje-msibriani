{
 "cells": [
  {
   "cell_type": "markdown",
   "metadata": {},
   "source": [
    "# **Maestría en Inteligencia Artificial Aplicada**\n",
    "## **Curso: Ciencia y analítica de datos**\n",
    "### Tecnológico de Monterrey"
   ]
  },
  {
   "cell_type": "markdown",
   "metadata": {},
   "source": [
    "#### **Nombre:** Matthias Sibrian Illescas\n",
    "#### **Matrícula:** a01794249"
   ]
  },
  {
   "cell_type": "markdown",
   "metadata": {},
   "source": [
    "# **Data Analysis with Python (IBM)**"
   ]
  },
  {
   "cell_type": "markdown",
   "metadata": {},
   "source": [
    "## **Módulo 4: Model Development**"
   ]
  },
  {
   "cell_type": "markdown",
   "metadata": {},
   "source": [
    "Un modelo se puede considerar como una ecuación matemática que sirve para predecir o para clasificar variables. En general, entre más datos de entrada se tenga acerca del modelo, mejor será su utilidad."
   ]
  },
  {
   "cell_type": "markdown",
   "metadata": {},
   "source": [
    "**Regresión lineal**: Este método ajusta una recta a un grupo de valores, minimizando la distancia entre los puntos hacia la recta. Tiene dos parámetros, la pendiente y el intercepto."
   ]
  },
  {
   "cell_type": "markdown",
   "metadata": {},
   "source": [
    "**Regresión lineal múltiple:**: Este método ajusta un hiperplano al grupo de valores, minimizando la distancia entre los valores hacia este hiperparámetro. Para ajustar un estimador a este modelo, se debe llevar a cabo tres pasos: escoger las variables de entrenamiento desde la data original, se entrena el modelo y luego se usan los parámetros obtenidos para predecir, usando la data nueva."
   ]
  },
  {
   "cell_type": "markdown",
   "metadata": {},
   "source": [
    "La evaluación de modelos es muy útil hacerla desde la visualización. Por ejemplo, se puede obtener una gráfica de residuos para observar si las suposiciones que se hacen son correctas. En este caso, si los residuos no exhiben un comportamiento aleatorio, sino más bien forman más curvas de polinomios no lineales, quiere decir que la data sigue un comportamiento de ese tipo.\n",
    "\n",
    "Además, también es muy útil observar las distribuciones a través de histogramas o curvas de distribución, dependiendo si la data es discreta o continua. Para realizarlos, es posible hacerlo desde la librería seaborn, la cual permite crear histogramas o gráficas de distribución."
   ]
  },
  {
   "cell_type": "markdown",
   "metadata": {},
   "source": [
    "**Regresión polinomial**: La regresión polinomial funciona de la misma manera que la regresión lineal habitual, pero con la diferencia que coloca en sus parámetros lineales relaciones no lineales entre las variables de entrada para formar nuevos valores de entrada."
   ]
  },
  {
   "cell_type": "markdown",
   "metadata": {},
   "source": [
    "**Pipeline**: El pipeline es una manera de simplificar el código que transforma los datos para los modelos. En él, se usan tuplas para indicar cualquier escalamiento, ajuste o regresión que se necesita hacer y ya tan solo aplicar a diferentes arreglos de entrada. El resultado son los datos transformados."
   ]
  },
  {
   "cell_type": "markdown",
   "metadata": {},
   "source": [
    "**R^2**: Este valor es una métrica de desempeño para medición del modelo. Depende del error cuadrático medio, (MSE por sus siglas en inglés). El MSE mide cuán mejor es el ajuste de un ajuste lineal midiendo la suma de los cuadrados de los errores de cada punto hacia la recta de predicción. Por lo tanto, un valor de MSE más bajo indica un mejor desempeño, mientras que un valor R cuadrado cercano a 0 indica mal desempeño."
   ]
  }
 ],
 "metadata": {
  "kernelspec": {
   "display_name": "Python 3.9.12 ('base')",
   "language": "python",
   "name": "python3"
  },
  "language_info": {
   "name": "python",
   "version": "3.9.12"
  },
  "orig_nbformat": 4,
  "vscode": {
   "interpreter": {
    "hash": "8607d81fc6318cb05ed35a8010608a8fe3010a47ba3e0e927835a55241641039"
   }
  }
 },
 "nbformat": 4,
 "nbformat_minor": 2
}
