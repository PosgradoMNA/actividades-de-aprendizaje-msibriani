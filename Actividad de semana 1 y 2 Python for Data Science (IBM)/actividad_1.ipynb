{
  "cells": [
    {
      "cell_type": "markdown",
      "metadata": {
        "colab_type": "text",
        "id": "view-in-github"
      },
      "source": [
        "<a href=\"https://colab.research.google.com/github/tec03/ParaAssignment01-/blob/main/assignment01.ipynb\" target=\"_parent\"><img src=\"https://colab.research.google.com/assets/colab-badge.svg\" alt=\"Open In Colab\"/></a>"
      ]
    },
    {
      "cell_type": "markdown",
      "metadata": {},
      "source": [
        "# **Actividad de semana 1 - 2: Python for Data Science (IBM)**"
      ]
    },
    {
      "cell_type": "markdown",
      "metadata": {},
      "source": [
        "#### **Nombre:** Matthias Sibrian Illescas\n",
        "\n",
        "#### **Matrícula:** a01794249"
      ]
    },
    {
      "cell_type": "markdown",
      "metadata": {},
      "source": [
        "## **Módulo 1: Python Basics**"
      ]
    },
    {
      "cell_type": "markdown",
      "metadata": {},
      "source": [
        "### **Your First Program**"
      ]
    },
    {
      "cell_type": "markdown",
      "metadata": {},
      "source": [
        "Python es un lenguaje de programación de alto nivel usado de manera extensa tanto por principiantes como por expertos. Además, cuenta con muchos paquetes y librerías adicionales que lo hace muy versátil, y que lo hace un lenguaje de programación clave de aprendizaje para la ciencia y la analítica de datos."
      ]
    },
    {
      "cell_type": "markdown",
      "metadata": {},
      "source": [
        "Python es el lenguaje open-source y de alto nivel más popular del momento. Es muy útil para desarrollo web, investigación científica y programación orientada a objetos. "
      ]
    },
    {
      "cell_type": "markdown",
      "metadata": {},
      "source": [
        "Para comentar código, se usa el símbolo de # para diferenciar de comandos colocados a propósito."
      ]
    },
    {
      "cell_type": "markdown",
      "metadata": {},
      "source": [
        "#### **Quiz:** Ejercicios de Skills Network Labs (plataforma)"
      ]
    },
    {
      "cell_type": "markdown",
      "metadata": {},
      "source": [
        "Así se imprime un texto:"
      ]
    },
    {
      "cell_type": "code",
      "execution_count": 1,
      "metadata": {},
      "outputs": [
        {
          "name": "stdout",
          "output_type": "stream",
          "text": [
            "Hello World\n"
          ]
        }
      ],
      "source": [
        "print(\"Hello World\")"
      ]
    },
    {
      "cell_type": "markdown",
      "metadata": {},
      "source": [
        "Así se coloca un comentario. Al correrlo, esto no dará ningún texto de salida en la terminal:"
      ]
    },
    {
      "cell_type": "code",
      "execution_count": 2,
      "metadata": {},
      "outputs": [],
      "source": [
        "# this is a comment"
      ]
    },
    {
      "cell_type": "markdown",
      "metadata": {},
      "source": [
        "Así se incluye una nueva línea en la terminal donde se está corriendo el script de Python:"
      ]
    },
    {
      "cell_type": "code",
      "execution_count": 3,
      "metadata": {},
      "outputs": [
        {
          "name": "stdout",
          "output_type": "stream",
          "text": [
            "Hello\n",
            "World\n"
          ]
        }
      ],
      "source": [
        "print(\"Hello\\nWorld\")"
      ]
    },
    {
      "cell_type": "markdown",
      "metadata": {},
      "source": [
        "Por lo tanto, este comando se tratará como un comentario:"
      ]
    },
    {
      "cell_type": "code",
      "execution_count": null,
      "metadata": {},
      "outputs": [],
      "source": [
        "# print('Hello World!')"
      ]
    },
    {
      "cell_type": "markdown",
      "metadata": {},
      "source": [
        "### **Types**"
      ]
    },
    {
      "cell_type": "markdown",
      "metadata": {},
      "source": [
        "Para representar un dato, es importante conocer que Python tiene diferentes estructuras para hacerlo. Las más comunes son las siguientes:\n",
        "\n",
        "**Tipo**|**Descripción**\n",
        ":-----:|:-----:\n",
        "String|Cadenas de literales alfanuméricos\n",
        "Int|Números enteros, positivos y negativos\n",
        "Float|Números en escala real\n",
        "Booleano|Valor binario, \"True\" o \"False\"\n",
        "\n",
        "Dependiendo el tipo de dato que se quiera guardar, uno de los tipos será más conveniente que otro. Por ejemplo, para valores alfanuméricos, es recomendable los strings. Para un valor entero, el int y para valores numéricos en escala real, el punto flotante.\n",
        "\n",
        "Todos estos tipos de datos tienen un rango finito, el cual es sumanamente grande."
      ]
    },
    {
      "cell_type": "markdown",
      "metadata": {},
      "source": [
        "**Type casting**: La práctica de cambiar un valor de un tipo de dato a otro. Hay que tener en cuenta que se puede perder granularidad en valores numéricos al cambiarlos de un tipo a otro. \n",
        "\n",
        "Es importante saber que el valor 1 se castea directamente a un valor True en booleano, mientras que el 0, a un valor False."
      ]
    },
    {
      "cell_type": "markdown",
      "metadata": {},
      "source": [
        "#### **Quiz:** Ejercicios de Skills Network Labs (plataforma)"
      ]
    },
    {
      "cell_type": "markdown",
      "metadata": {},
      "source": [
        "Así se puede saber cuál es el tipo de dato de los siguientes valores, usando el comando *type* en Python:"
      ]
    },
    {
      "cell_type": "code",
      "execution_count": 4,
      "metadata": {},
      "outputs": [
        {
          "data": {
            "text/plain": [
              "str"
            ]
          },
          "execution_count": 4,
          "metadata": {},
          "output_type": "execute_result"
        }
      ],
      "source": [
        "type('Hello World')"
      ]
    },
    {
      "cell_type": "code",
      "execution_count": 5,
      "metadata": {},
      "outputs": [
        {
          "data": {
            "text/plain": [
              "str"
            ]
          },
          "execution_count": 5,
          "metadata": {},
          "output_type": "execute_result"
        }
      ],
      "source": [
        "type(\"1.1\")"
      ]
    },
    {
      "cell_type": "markdown",
      "metadata": {},
      "source": [
        "Así se puede hacer un casting del valor entre tipos, por ejemplo, de string a entero a booleano:"
      ]
    },
    {
      "cell_type": "code",
      "execution_count": 6,
      "metadata": {},
      "outputs": [
        {
          "data": {
            "text/plain": [
              "True"
            ]
          },
          "execution_count": 6,
          "metadata": {},
          "output_type": "execute_result"
        }
      ],
      "source": [
        "bool(int(\"1\"))"
      ]
    },
    {
      "cell_type": "markdown",
      "metadata": {},
      "source": [
        "Acá, se conviente un valor real a entero y luego se revisa su tipo:"
      ]
    },
    {
      "cell_type": "code",
      "execution_count": 7,
      "metadata": {},
      "outputs": [
        {
          "data": {
            "text/plain": [
              "int"
            ]
          },
          "execution_count": 7,
          "metadata": {},
          "output_type": "execute_result"
        }
      ],
      "source": [
        "type(int(1.0))"
      ]
    },
    {
      "cell_type": "markdown",
      "metadata": {},
      "source": [
        "Acá, se castea un entero a un valor booleano:"
      ]
    },
    {
      "cell_type": "code",
      "execution_count": 8,
      "metadata": {},
      "outputs": [
        {
          "data": {
            "text/plain": [
              "True"
            ]
          },
          "execution_count": 8,
          "metadata": {},
          "output_type": "execute_result"
        }
      ],
      "source": [
        "bool(1)"
      ]
    },
    {
      "cell_type": "markdown",
      "metadata": {},
      "source": [
        "### **Expressions and Variables**"
      ]
    },
    {
      "cell_type": "markdown",
      "metadata": {},
      "source": [
        "En Python, podemos usar expresiones para llevar a cabo operaciones aritméticas. Se puede realizar sumas, restas, divisiones y operaciones. Python respeta el orden de operaciones habitual, por lo que se puede usar paréntesis para fijar el orden. \n",
        "\n",
        "Además, se puede usar variables, lo cual permite guardar un valor con un nombre particular, y luego llevar a cabo operaciones sobre las variables. Luego, se puede ir guardando en otras variables, y así sucesivamente. \n",
        "\n",
        "Para fijar una variable, se usa el literal '='. \n",
        "\n",
        "Es una buena práctica usar nombres de variables relevantes de una forma ordenada y sistemática en un programa.\n",
        "\n"
      ]
    },
    {
      "cell_type": "markdown",
      "metadata": {},
      "source": [
        "### **Lab - Write Your First Python Code! - Ejercicios realizados**"
      ]
    },
    {
      "cell_type": "code",
      "execution_count": 1,
      "metadata": {},
      "outputs": [
        {
          "name": "stdout",
          "output_type": "stream",
          "text": [
            "Hello, Python!\n"
          ]
        }
      ],
      "source": [
        "print('Hello, Python!')"
      ]
    },
    {
      "cell_type": "code",
      "execution_count": 2,
      "metadata": {},
      "outputs": [
        {
          "name": "stdout",
          "output_type": "stream",
          "text": [
            "3.9.12 (main, Apr  4 2022, 05:22:27) [MSC v.1916 64 bit (AMD64)]\n"
          ]
        }
      ],
      "source": [
        "# Check the Python Version\n",
        "\n",
        "import sys\n",
        "print(sys.version)"
      ]
    },
    {
      "cell_type": "code",
      "execution_count": 3,
      "metadata": {},
      "outputs": [
        {
          "name": "stdout",
          "output_type": "stream",
          "text": [
            "Hello, Python!\n"
          ]
        }
      ],
      "source": [
        "# Practice on writing comments\n",
        "\n",
        "print('Hello, Python!') # This line prints a string\n",
        "# print('Hi')"
      ]
    },
    {
      "cell_type": "code",
      "execution_count": 4,
      "metadata": {},
      "outputs": [
        {
          "ename": "NameError",
          "evalue": "name 'frint' is not defined",
          "output_type": "error",
          "traceback": [
            "\u001b[1;31m---------------------------------------------------------------------------\u001b[0m",
            "\u001b[1;31mNameError\u001b[0m                                 Traceback (most recent call last)",
            "\u001b[1;32mc:\\Users\\matth\\OneDrive\\Documentos\\GitHub\\actividades-de-aprendizaje-msibriani\\Actividad de semana 1 y 2 Python for Data Science (IBM)\\actividad_1.ipynb Cell 37\u001b[0m in \u001b[0;36m<cell line: 3>\u001b[1;34m()\u001b[0m\n\u001b[0;32m      <a href='vscode-notebook-cell:/c%3A/Users/matth/OneDrive/Documentos/GitHub/actividades-de-aprendizaje-msibriani/Actividad%20de%20semana%201%20y%202%20Python%20for%20Data%20Science%20%28IBM%29/actividad_1.ipynb#X51sZmlsZQ%3D%3D?line=0'>1</a>\u001b[0m \u001b[39m# Print string as error message\u001b[39;00m\n\u001b[1;32m----> <a href='vscode-notebook-cell:/c%3A/Users/matth/OneDrive/Documentos/GitHub/actividades-de-aprendizaje-msibriani/Actividad%20de%20semana%201%20y%202%20Python%20for%20Data%20Science%20%28IBM%29/actividad_1.ipynb#X51sZmlsZQ%3D%3D?line=2'>3</a>\u001b[0m frint(\u001b[39m\"\u001b[39m\u001b[39mHello, Python!\u001b[39m\u001b[39m\"\u001b[39m)\n",
            "\u001b[1;31mNameError\u001b[0m: name 'frint' is not defined"
          ]
        }
      ],
      "source": [
        "# Print string as error message\n",
        "\n",
        "frint(\"Hello, Python!\")"
      ]
    },
    {
      "cell_type": "code",
      "execution_count": 5,
      "metadata": {},
      "outputs": [
        {
          "ename": "SyntaxError",
          "evalue": "EOL while scanning string literal (3628399183.py, line 3)",
          "output_type": "error",
          "traceback": [
            "\u001b[1;36m  Input \u001b[1;32mIn [5]\u001b[1;36m\u001b[0m\n\u001b[1;33m    print(\"Hello, Python!)\u001b[0m\n\u001b[1;37m                          ^\u001b[0m\n\u001b[1;31mSyntaxError\u001b[0m\u001b[1;31m:\u001b[0m EOL while scanning string literal\n"
          ]
        }
      ],
      "source": [
        "# Try to see built-in error message\n",
        "\n",
        "print(\"Hello, Python!)"
      ]
    },
    {
      "cell_type": "code",
      "execution_count": 6,
      "metadata": {},
      "outputs": [
        {
          "name": "stdout",
          "output_type": "stream",
          "text": [
            "This will be printed\n"
          ]
        },
        {
          "ename": "NameError",
          "evalue": "name 'frint' is not defined",
          "output_type": "error",
          "traceback": [
            "\u001b[1;31m---------------------------------------------------------------------------\u001b[0m",
            "\u001b[1;31mNameError\u001b[0m                                 Traceback (most recent call last)",
            "\u001b[1;32mc:\\Users\\matth\\OneDrive\\Documentos\\GitHub\\actividades-de-aprendizaje-msibriani\\Actividad de semana 1 y 2 Python for Data Science (IBM)\\actividad_1.ipynb Cell 39\u001b[0m in \u001b[0;36m<cell line: 4>\u001b[1;34m()\u001b[0m\n\u001b[0;32m      <a href='vscode-notebook-cell:/c%3A/Users/matth/OneDrive/Documentos/GitHub/actividades-de-aprendizaje-msibriani/Actividad%20de%20semana%201%20y%202%20Python%20for%20Data%20Science%20%28IBM%29/actividad_1.ipynb#X53sZmlsZQ%3D%3D?line=0'>1</a>\u001b[0m \u001b[39m# Print string and error to see the running order\u001b[39;00m\n\u001b[0;32m      <a href='vscode-notebook-cell:/c%3A/Users/matth/OneDrive/Documentos/GitHub/actividades-de-aprendizaje-msibriani/Actividad%20de%20semana%201%20y%202%20Python%20for%20Data%20Science%20%28IBM%29/actividad_1.ipynb#X53sZmlsZQ%3D%3D?line=2'>3</a>\u001b[0m \u001b[39mprint\u001b[39m(\u001b[39m\"\u001b[39m\u001b[39mThis will be printed\u001b[39m\u001b[39m\"\u001b[39m)\n\u001b[1;32m----> <a href='vscode-notebook-cell:/c%3A/Users/matth/OneDrive/Documentos/GitHub/actividades-de-aprendizaje-msibriani/Actividad%20de%20semana%201%20y%202%20Python%20for%20Data%20Science%20%28IBM%29/actividad_1.ipynb#X53sZmlsZQ%3D%3D?line=3'>4</a>\u001b[0m frint(\u001b[39m\"\u001b[39m\u001b[39mThis will cause an error\u001b[39m\u001b[39m\"\u001b[39m)\n\u001b[0;32m      <a href='vscode-notebook-cell:/c%3A/Users/matth/OneDrive/Documentos/GitHub/actividades-de-aprendizaje-msibriani/Actividad%20de%20semana%201%20y%202%20Python%20for%20Data%20Science%20%28IBM%29/actividad_1.ipynb#X53sZmlsZQ%3D%3D?line=4'>5</a>\u001b[0m \u001b[39mprint\u001b[39m(\u001b[39m\"\u001b[39m\u001b[39mThis will NOT be printed\u001b[39m\u001b[39m\"\u001b[39m)\n",
            "\u001b[1;31mNameError\u001b[0m: name 'frint' is not defined"
          ]
        }
      ],
      "source": [
        "# Print string and error to see the running order\n",
        "\n",
        "print(\"This will be printed\")\n",
        "frint(\"This will cause an error\")\n",
        "print(\"This will NOT be printed\")"
      ]
    },
    {
      "cell_type": "code",
      "execution_count": 7,
      "metadata": {},
      "outputs": [
        {
          "name": "stdout",
          "output_type": "stream",
          "text": [
            "Hello, world!\n"
          ]
        }
      ],
      "source": [
        "# Write your code below. Don't forget to press Shift+Enter to execute the cell\n",
        "print('Hello, world!')\n"
      ]
    },
    {
      "cell_type": "code",
      "execution_count": 8,
      "metadata": {},
      "outputs": [
        {
          "name": "stdout",
          "output_type": "stream",
          "text": [
            "Hello, world!\n"
          ]
        }
      ],
      "source": [
        "# Write your code below. Don't forget to press Shift+Enter to execute the cell\n",
        "print('Hello, world!') #Print the traditional hello world"
      ]
    },
    {
      "cell_type": "code",
      "execution_count": null,
      "metadata": {},
      "outputs": [],
      "source": [
        "# Integer\n",
        "\n",
        "11"
      ]
    },
    {
      "cell_type": "code",
      "execution_count": null,
      "metadata": {},
      "outputs": [],
      "source": [
        "# Float\n",
        "\n",
        "2.14"
      ]
    },
    {
      "cell_type": "code",
      "execution_count": null,
      "metadata": {},
      "outputs": [],
      "source": [
        "# String\n",
        "\n",
        "\"Hello, Python 101!\""
      ]
    },
    {
      "cell_type": "code",
      "execution_count": null,
      "metadata": {},
      "outputs": [],
      "source": [
        "# Type of 12\n",
        "\n",
        "type(12)"
      ]
    },
    {
      "cell_type": "code",
      "execution_count": null,
      "metadata": {},
      "outputs": [],
      "source": [
        "# Type of 2.14\n",
        "\n",
        "type(2.14)"
      ]
    },
    {
      "cell_type": "code",
      "execution_count": null,
      "metadata": {},
      "outputs": [],
      "source": [
        "# Type of \"Hello, Python 101!\"\n",
        "\n",
        "type(\"Hello, Python 101!\")"
      ]
    },
    {
      "cell_type": "code",
      "execution_count": null,
      "metadata": {},
      "outputs": [],
      "source": [
        "# Write your code below. Don't forget to press Shift+Enter to execute the cell\n",
        "type(12.0)"
      ]
    },
    {
      "cell_type": "code",
      "execution_count": null,
      "metadata": {},
      "outputs": [],
      "source": [
        "# Print the type of -1\n",
        "\n",
        "type(-1)"
      ]
    },
    {
      "cell_type": "code",
      "execution_count": null,
      "metadata": {},
      "outputs": [],
      "source": [
        "# Print the type of 4\n",
        "\n",
        "type(4)"
      ]
    },
    {
      "cell_type": "code",
      "execution_count": null,
      "metadata": {},
      "outputs": [],
      "source": [
        "# Print the type of 0\n",
        "\n",
        "type(0)"
      ]
    },
    {
      "cell_type": "code",
      "execution_count": null,
      "metadata": {},
      "outputs": [],
      "source": [
        "# Print the type of 1.0\n",
        "\n",
        "type(1.0) # Notice that 1 is an int, and 1.0 is a float"
      ]
    },
    {
      "cell_type": "code",
      "execution_count": null,
      "metadata": {},
      "outputs": [],
      "source": [
        "# Print the type of 0.5\n",
        "\n",
        "type(0.5)"
      ]
    },
    {
      "cell_type": "code",
      "execution_count": null,
      "metadata": {},
      "outputs": [],
      "source": [
        "# Print the type of 0.56\n",
        "\n",
        "type(0.56)"
      ]
    },
    {
      "cell_type": "code",
      "execution_count": null,
      "metadata": {},
      "outputs": [],
      "source": [
        "# System settings about float type\n",
        "\n",
        "sys.float_info"
      ]
    },
    {
      "cell_type": "code",
      "execution_count": null,
      "metadata": {},
      "outputs": [],
      "source": [
        "# Verify that this is an integer\n",
        "\n",
        "type(2)"
      ]
    },
    {
      "cell_type": "code",
      "execution_count": null,
      "metadata": {},
      "outputs": [],
      "source": [
        "# Convert 2 to a float\n",
        "\n",
        "float(2)"
      ]
    },
    {
      "cell_type": "code",
      "execution_count": null,
      "metadata": {},
      "outputs": [],
      "source": [
        "# Convert integer 2 to a float and check its type\n",
        "\n",
        "type(float(2))"
      ]
    },
    {
      "cell_type": "code",
      "execution_count": null,
      "metadata": {},
      "outputs": [],
      "source": [
        "# Casting 1.1 to integer will result in loss of information\n",
        "\n",
        "int(1.1)"
      ]
    },
    {
      "cell_type": "code",
      "execution_count": null,
      "metadata": {},
      "outputs": [],
      "source": [
        "# Convert a string into an integer\n",
        "\n",
        "int('1')"
      ]
    },
    {
      "cell_type": "code",
      "execution_count": null,
      "metadata": {},
      "outputs": [],
      "source": [
        "# Convert a string into an integer with error\n",
        "\n",
        "int('1 or 2 people')"
      ]
    },
    {
      "cell_type": "code",
      "execution_count": null,
      "metadata": {},
      "outputs": [],
      "source": [
        "# Convert the string \"1.2\" into a float\n",
        "\n",
        "float('1.2')"
      ]
    },
    {
      "cell_type": "code",
      "execution_count": null,
      "metadata": {},
      "outputs": [],
      "source": [
        "# Convert an integer to a string\n",
        "\n",
        "str(1)\n"
      ]
    },
    {
      "cell_type": "code",
      "execution_count": null,
      "metadata": {},
      "outputs": [],
      "source": [
        "# Convert a float to a string\n",
        "\n",
        "str(1.2)"
      ]
    },
    {
      "cell_type": "code",
      "execution_count": null,
      "metadata": {},
      "outputs": [],
      "source": [
        "# Value true\n",
        "\n",
        "True"
      ]
    },
    {
      "cell_type": "code",
      "execution_count": null,
      "metadata": {},
      "outputs": [],
      "source": [
        "# Value false\n",
        "\n",
        "False"
      ]
    },
    {
      "cell_type": "code",
      "execution_count": null,
      "metadata": {},
      "outputs": [],
      "source": [
        "# Type of True\n",
        "\n",
        "type(True)"
      ]
    },
    {
      "cell_type": "code",
      "execution_count": null,
      "metadata": {},
      "outputs": [],
      "source": [
        "# Type of False\n",
        "\n",
        "type(False)"
      ]
    },
    {
      "cell_type": "code",
      "execution_count": null,
      "metadata": {},
      "outputs": [],
      "source": [
        "# Convert True to int\n",
        "\n",
        "int(True)"
      ]
    },
    {
      "cell_type": "code",
      "execution_count": null,
      "metadata": {},
      "outputs": [],
      "source": [
        "# Convert 1 to boolean\n",
        "\n",
        "bool(1)"
      ]
    },
    {
      "cell_type": "code",
      "execution_count": null,
      "metadata": {},
      "outputs": [],
      "source": [
        "# Convert 0 to boolean\n",
        "\n",
        "bool(0)"
      ]
    },
    {
      "cell_type": "code",
      "execution_count": null,
      "metadata": {},
      "outputs": [],
      "source": [
        "# Convert True to float\n",
        "\n",
        "float(True)"
      ]
    },
    {
      "cell_type": "code",
      "execution_count": null,
      "metadata": {},
      "outputs": [],
      "source": [
        "# Write your code below. Don't forget to press Shift+Enter to execute the cell\n",
        "type(6/2)"
      ]
    },
    {
      "cell_type": "code",
      "execution_count": null,
      "metadata": {},
      "outputs": [],
      "source": [
        "# Write your code below. Don't forget to press Shift+Enter to execute the cell\n",
        "type(6//2)"
      ]
    },
    {
      "cell_type": "code",
      "execution_count": null,
      "metadata": {},
      "outputs": [],
      "source": [
        "# Addition operation expression\n",
        "\n",
        "43 + 60 + 16 + 41"
      ]
    },
    {
      "cell_type": "code",
      "execution_count": null,
      "metadata": {},
      "outputs": [],
      "source": [
        "# Subtraction operation expression\n",
        "\n",
        "50 - 60"
      ]
    },
    {
      "cell_type": "code",
      "execution_count": null,
      "metadata": {},
      "outputs": [],
      "source": [
        "# Multiplication operation expression\n",
        "\n",
        "5 * 5"
      ]
    },
    {
      "cell_type": "code",
      "execution_count": null,
      "metadata": {},
      "outputs": [],
      "source": [
        "# Division operation expression\n",
        "\n",
        "25 / 5"
      ]
    },
    {
      "cell_type": "code",
      "execution_count": null,
      "metadata": {},
      "outputs": [],
      "source": [
        "# Division operation expression\n",
        "\n",
        "25 / 6"
      ]
    },
    {
      "cell_type": "code",
      "execution_count": null,
      "metadata": {},
      "outputs": [],
      "source": [
        "# Integer division operation expression\n",
        "\n",
        "25 // 5"
      ]
    },
    {
      "cell_type": "code",
      "execution_count": null,
      "metadata": {},
      "outputs": [],
      "source": [
        "# Integer division operation expression\n",
        "\n",
        "25 // 6"
      ]
    },
    {
      "cell_type": "code",
      "execution_count": null,
      "metadata": {},
      "outputs": [],
      "source": [
        "# Write your code below. Don't forget to press Shift+Enter to execute the cell\n",
        "160/60"
      ]
    },
    {
      "cell_type": "code",
      "execution_count": null,
      "metadata": {},
      "outputs": [],
      "source": [
        "# Mathematical expression\n",
        "\n",
        "30 + 2 * 60"
      ]
    },
    {
      "cell_type": "code",
      "execution_count": null,
      "metadata": {},
      "outputs": [],
      "source": [
        "# Mathematical expression\n",
        "\n",
        "(30 + 2) * 60"
      ]
    },
    {
      "cell_type": "code",
      "execution_count": null,
      "metadata": {},
      "outputs": [],
      "source": [
        "# Store value into variable\n",
        "\n",
        "x = 43 + 60 + 16 + 41"
      ]
    },
    {
      "cell_type": "code",
      "execution_count": null,
      "metadata": {},
      "outputs": [],
      "source": [
        "# Print out the value in variable\n",
        "\n",
        "x"
      ]
    },
    {
      "cell_type": "code",
      "execution_count": null,
      "metadata": {},
      "outputs": [],
      "source": [
        "# Use another variable to store the result of the operation between variable and value\n",
        "\n",
        "y = x / 60\n",
        "y"
      ]
    },
    {
      "cell_type": "code",
      "execution_count": null,
      "metadata": {},
      "outputs": [],
      "source": [
        "# Overwrite variable with new value\n",
        "\n",
        "x = x / 60\n",
        "x"
      ]
    },
    {
      "cell_type": "code",
      "execution_count": null,
      "metadata": {},
      "outputs": [],
      "source": [
        "# Name the variables meaningfully\n",
        "\n",
        "total_min = 43 + 42 + 57 # Total length of albums in minutes\n",
        "total_min"
      ]
    },
    {
      "cell_type": "code",
      "execution_count": null,
      "metadata": {},
      "outputs": [],
      "source": [
        "# Name the variables meaningfully\n",
        "\n",
        "total_hours = total_min / 60 # Total length of albums in hours \n",
        "total_hours"
      ]
    },
    {
      "cell_type": "code",
      "execution_count": null,
      "metadata": {},
      "outputs": [],
      "source": [
        "# Complicate expression\n",
        "\n",
        "total_hours = (43 + 42 + 57) / 60  # Total hours in a single expression\n",
        "total_hours"
      ]
    },
    {
      "cell_type": "code",
      "execution_count": null,
      "metadata": {},
      "outputs": [],
      "source": [
        "# Write your code below. Don't forget to press Shift+Enter to execute the cell\n",
        "x= 3+2*2\n",
        "x"
      ]
    },
    {
      "cell_type": "code",
      "execution_count": null,
      "metadata": {},
      "outputs": [],
      "source": [
        "# Write your code below. Don't forget to press Shift+Enter to execute the cell\n",
        "y = (3+2)*2\n",
        "y"
      ]
    },
    {
      "cell_type": "code",
      "execution_count": null,
      "metadata": {},
      "outputs": [],
      "source": [
        "# Write your code below. Don't forget to press Shift+Enter to execute the cell\n",
        "z = x+y\n",
        "z"
      ]
    },
    {
      "cell_type": "markdown",
      "metadata": {},
      "source": [
        "### **String Operations**"
      ]
    },
    {
      "cell_type": "markdown",
      "metadata": {},
      "source": [
        "En Python, los strings son básicamente secuencias de elementos ordenados y accesibles a través de un índice. Para accesar cada elemento, es posible indicar la posición en el arreglo.\n",
        "\n",
        "Algunas operaciones que se pueden hacer sobre los strings:\n",
        "\n",
        "**Operación**|**Descripción**\n",
        ":-----:|:-----:\n",
        "Concatenación|Unir dos strings a través de un +\n",
        "Multiplicación|Multiplicar varios strings a través de un *\n",
        "Slicing|Cortar un string a partir de una posición a través de [n:n]\n",
        "\n",
        "Asimismo, existen métodos exclusivos para manipular strings. Esto permite realizar operaciones más complejas sobre ellos, como por ejemplo:\n",
        "\n",
        "**Operación**|**Descripción**\n",
        ":-----:|:-----:\n",
        "upper(string)|Convierte un string a mayúsculas\n",
        "replace('old','new')|Reemplaza cierto segmento en un string por otro\n",
        "find(string)|Devuelve los índices en algún string para cierto segmento"
      ]
    },
    {
      "cell_type": "markdown",
      "metadata": {},
      "source": [
        "#### **Quiz:** Ejercicios de Skills Network Labs (plataforma)"
      ]
    },
    {
      "cell_type": "code",
      "execution_count": 10,
      "metadata": {},
      "outputs": [
        {
          "data": {
            "text/plain": [
              "'0246'"
            ]
          },
          "execution_count": 10,
          "metadata": {},
          "output_type": "execute_result"
        }
      ],
      "source": [
        "#Para obtener los elementos pares\n",
        "Numbers = '0123456'\n",
        "Numbers[::2]"
      ]
    },
    {
      "cell_type": "code",
      "execution_count": 11,
      "metadata": {},
      "outputs": [
        {
          "data": {
            "text/plain": [
              "1"
            ]
          },
          "execution_count": 11,
          "metadata": {},
          "output_type": "execute_result"
        }
      ],
      "source": [
        "#El resultado del siguiente código será un entero 1, porque es el índice de la posición consultada\n",
        "\"0123456\".find('1')"
      ]
    },
    {
      "cell_type": "code",
      "execution_count": 15,
      "metadata": {},
      "outputs": [
        {
          "data": {
            "text/plain": [
              "'ABCD'"
            ]
          },
          "execution_count": 15,
          "metadata": {},
          "output_type": "execute_result"
        }
      ],
      "source": [
        "#Para seleccionar los primeros cuatro valores del string, \n",
        "# se debe indicar un rango de 0 a 4, \n",
        "# pues así se indica las primeas cuatro posiciones \n",
        "Letters=\"ABCDEFGHIJK\"\n",
        "Letters[0:4]"
      ]
    },
    {
      "cell_type": "code",
      "execution_count": 16,
      "metadata": {},
      "outputs": [
        {
          "data": {
            "text/plain": [
              "'Good'"
            ]
          },
          "execution_count": 16,
          "metadata": {},
          "output_type": "execute_result"
        }
      ],
      "source": [
        "#En el caso de strides, que sirven para indicar un paso en el string, se necesita el siguiente\n",
        "#código para indicar un paso de 2 en el string\n",
        "Good=\"GsoAo+d\"\n",
        "Good[::2]"
      ]
    },
    {
      "cell_type": "code",
      "execution_count": 17,
      "metadata": {},
      "outputs": [
        {
          "data": {
            "text/plain": [
              "'UPPERCASE'"
            ]
          },
          "execution_count": 17,
          "metadata": {},
          "output_type": "execute_result"
        }
      ],
      "source": [
        "#Para imprimir un string a mayúscula, se usa upper\n",
        "\"uppercase\"\n",
        "\"uppercase\".upper()"
      ]
    },
    {
      "cell_type": "code",
      "execution_count": 18,
      "metadata": {},
      "outputs": [
        {
          "data": {
            "text/plain": [
              "'Michael Jackson'"
            ]
          },
          "execution_count": 18,
          "metadata": {},
          "output_type": "execute_result"
        }
      ],
      "source": [
        "# Use quotation marks for defining string\n",
        "\n",
        "\"Michael Jackson\""
      ]
    },
    {
      "cell_type": "code",
      "execution_count": 19,
      "metadata": {},
      "outputs": [
        {
          "data": {
            "text/plain": [
              "'Michael Jackson'"
            ]
          },
          "execution_count": 19,
          "metadata": {},
          "output_type": "execute_result"
        }
      ],
      "source": [
        "# Use single quotation marks for defining string\n",
        "\n",
        "'Michael Jackson'"
      ]
    },
    {
      "cell_type": "code",
      "execution_count": 20,
      "metadata": {},
      "outputs": [
        {
          "data": {
            "text/plain": [
              "'1 2 3 4 5 6 '"
            ]
          },
          "execution_count": 20,
          "metadata": {},
          "output_type": "execute_result"
        }
      ],
      "source": [
        "# Digitals and spaces in string\n",
        "\n",
        "'1 2 3 4 5 6 '"
      ]
    },
    {
      "cell_type": "code",
      "execution_count": 21,
      "metadata": {},
      "outputs": [
        {
          "data": {
            "text/plain": [
              "'@#2_#]&*^%$'"
            ]
          },
          "execution_count": 21,
          "metadata": {},
          "output_type": "execute_result"
        }
      ],
      "source": [
        "# Special characters in string\n",
        "\n",
        "'@#2_#]&*^%$'"
      ]
    },
    {
      "cell_type": "code",
      "execution_count": 22,
      "metadata": {},
      "outputs": [
        {
          "name": "stdout",
          "output_type": "stream",
          "text": [
            "hello!\n"
          ]
        }
      ],
      "source": [
        "# Print the string\n",
        "\n",
        "print(\"hello!\")"
      ]
    },
    {
      "cell_type": "code",
      "execution_count": 23,
      "metadata": {},
      "outputs": [
        {
          "data": {
            "text/plain": [
              "'Michael Jackson'"
            ]
          },
          "execution_count": 23,
          "metadata": {},
          "output_type": "execute_result"
        }
      ],
      "source": [
        "# Assign string to variable\n",
        "\n",
        "name = \"Michael Jackson\"\n",
        "name"
      ]
    },
    {
      "cell_type": "code",
      "execution_count": 24,
      "metadata": {},
      "outputs": [
        {
          "name": "stdout",
          "output_type": "stream",
          "text": [
            "M\n"
          ]
        }
      ],
      "source": [
        "# Print the first element in the string\n",
        "\n",
        "print(name[0])"
      ]
    },
    {
      "cell_type": "code",
      "execution_count": 25,
      "metadata": {},
      "outputs": [
        {
          "name": "stdout",
          "output_type": "stream",
          "text": [
            "l\n"
          ]
        }
      ],
      "source": [
        "# Print the element on index 6 in the string\n",
        "\n",
        "print(name[6])"
      ]
    },
    {
      "cell_type": "code",
      "execution_count": 26,
      "metadata": {},
      "outputs": [
        {
          "name": "stdout",
          "output_type": "stream",
          "text": [
            "o\n"
          ]
        }
      ],
      "source": [
        "# Print the element on the 13th index in the string\n",
        "\n",
        "print(name[13])"
      ]
    },
    {
      "cell_type": "code",
      "execution_count": 27,
      "metadata": {},
      "outputs": [
        {
          "name": "stdout",
          "output_type": "stream",
          "text": [
            "n\n"
          ]
        }
      ],
      "source": [
        "# Print the last element in the string\n",
        "\n",
        "print(name[-1])"
      ]
    },
    {
      "cell_type": "code",
      "execution_count": 28,
      "metadata": {},
      "outputs": [
        {
          "name": "stdout",
          "output_type": "stream",
          "text": [
            "M\n"
          ]
        }
      ],
      "source": [
        "# Print the first element in the string\n",
        "\n",
        "print(name[-15])"
      ]
    },
    {
      "cell_type": "code",
      "execution_count": 29,
      "metadata": {},
      "outputs": [
        {
          "data": {
            "text/plain": [
              "15"
            ]
          },
          "execution_count": 29,
          "metadata": {},
          "output_type": "execute_result"
        }
      ],
      "source": [
        "# Find the length of string\n",
        "\n",
        "len(\"Michael Jackson\")"
      ]
    },
    {
      "cell_type": "code",
      "execution_count": 30,
      "metadata": {},
      "outputs": [
        {
          "data": {
            "text/plain": [
              "'Mich'"
            ]
          },
          "execution_count": 30,
          "metadata": {},
          "output_type": "execute_result"
        }
      ],
      "source": [
        "# Take the slice on variable name with only index 0 to index 3\n",
        "\n",
        "name[0:4]"
      ]
    },
    {
      "cell_type": "code",
      "execution_count": 31,
      "metadata": {},
      "outputs": [
        {
          "data": {
            "text/plain": [
              "'Jack'"
            ]
          },
          "execution_count": 31,
          "metadata": {},
          "output_type": "execute_result"
        }
      ],
      "source": [
        "# Take the slice on variable name with only index 8 to index 11\n",
        "\n",
        "name[8:12]"
      ]
    },
    {
      "cell_type": "code",
      "execution_count": 32,
      "metadata": {},
      "outputs": [
        {
          "data": {
            "text/plain": [
              "'McalJcsn'"
            ]
          },
          "execution_count": 32,
          "metadata": {},
          "output_type": "execute_result"
        }
      ],
      "source": [
        "# Get every second element. The elments on index 1, 3, 5 ...\n",
        "\n",
        "name[::2]"
      ]
    },
    {
      "cell_type": "code",
      "execution_count": 33,
      "metadata": {},
      "outputs": [
        {
          "data": {
            "text/plain": [
              "'Mca'"
            ]
          },
          "execution_count": 33,
          "metadata": {},
          "output_type": "execute_result"
        }
      ],
      "source": [
        "# Get every second element in the range from index 0 to index 4\n",
        "\n",
        "name[0:5:2]"
      ]
    },
    {
      "cell_type": "code",
      "execution_count": 34,
      "metadata": {},
      "outputs": [
        {
          "data": {
            "text/plain": [
              "'Michael Jacksonis the best'"
            ]
          },
          "execution_count": 34,
          "metadata": {},
          "output_type": "execute_result"
        }
      ],
      "source": [
        "# Concatenate two strings\n",
        "\n",
        "statement = name + \"is the best\"\n",
        "statement"
      ]
    },
    {
      "cell_type": "code",
      "execution_count": 35,
      "metadata": {},
      "outputs": [
        {
          "data": {
            "text/plain": [
              "'Michael JacksonMichael JacksonMichael Jackson'"
            ]
          },
          "execution_count": 35,
          "metadata": {},
          "output_type": "execute_result"
        }
      ],
      "source": [
        "# Print the string for 3 times\n",
        "\n",
        "3 * \"Michael Jackson\""
      ]
    },
    {
      "cell_type": "code",
      "execution_count": 36,
      "metadata": {},
      "outputs": [
        {
          "data": {
            "text/plain": [
              "'Michael Jackson is the best'"
            ]
          },
          "execution_count": 36,
          "metadata": {},
          "output_type": "execute_result"
        }
      ],
      "source": [
        "# Concatenate strings\n",
        "\n",
        "name = \"Michael Jackson\"\n",
        "name = name + \" is the best\"\n",
        "name"
      ]
    },
    {
      "cell_type": "code",
      "execution_count": 37,
      "metadata": {},
      "outputs": [
        {
          "name": "stdout",
          "output_type": "stream",
          "text": [
            " Michael Jackson \n",
            " is the best\n"
          ]
        }
      ],
      "source": [
        "# New line escape sequence\n",
        "\n",
        "print(\" Michael Jackson \\n is the best\" )"
      ]
    },
    {
      "cell_type": "code",
      "execution_count": 38,
      "metadata": {},
      "outputs": [
        {
          "name": "stdout",
          "output_type": "stream",
          "text": [
            " Michael Jackson \t is the best\n"
          ]
        }
      ],
      "source": [
        "# Tab escape sequence\n",
        "\n",
        "print(\" Michael Jackson \\t is the best\" )"
      ]
    },
    {
      "cell_type": "code",
      "execution_count": 39,
      "metadata": {},
      "outputs": [
        {
          "name": "stdout",
          "output_type": "stream",
          "text": [
            " Michael Jackson \\ is the best\n"
          ]
        }
      ],
      "source": [
        "# Include back slash in string\n",
        "\n",
        "print(\" Michael Jackson \\\\ is the best\" )"
      ]
    },
    {
      "cell_type": "code",
      "execution_count": 40,
      "metadata": {},
      "outputs": [
        {
          "name": "stdout",
          "output_type": "stream",
          "text": [
            " Michael Jackson \\ is the best\n"
          ]
        }
      ],
      "source": [
        "# r will tell python that string will be display as raw string\n",
        "\n",
        "print(r\" Michael Jackson \\ is the best\" )"
      ]
    },
    {
      "cell_type": "code",
      "execution_count": 41,
      "metadata": {},
      "outputs": [
        {
          "name": "stdout",
          "output_type": "stream",
          "text": [
            "before upper: Thriller is the sixth studio album\n",
            "After upper: THRILLER IS THE SIXTH STUDIO ALBUM\n"
          ]
        }
      ],
      "source": [
        "# Convert all the characters in string to upper case\n",
        "\n",
        "a = \"Thriller is the sixth studio album\"\n",
        "print(\"before upper:\", a)\n",
        "b = a.upper()\n",
        "print(\"After upper:\", b)"
      ]
    },
    {
      "cell_type": "code",
      "execution_count": 42,
      "metadata": {},
      "outputs": [
        {
          "data": {
            "text/plain": [
              "'Janet Jackson is the best'"
            ]
          },
          "execution_count": 42,
          "metadata": {},
          "output_type": "execute_result"
        }
      ],
      "source": [
        "# Replace the old substring with the new target substring is the segment has been found in the string\n",
        "\n",
        "a = \"Michael Jackson is the best\"\n",
        "b = a.replace('Michael', 'Janet')\n",
        "b"
      ]
    },
    {
      "cell_type": "code",
      "execution_count": 43,
      "metadata": {},
      "outputs": [
        {
          "data": {
            "text/plain": [
              "5"
            ]
          },
          "execution_count": 43,
          "metadata": {},
          "output_type": "execute_result"
        }
      ],
      "source": [
        "# Find the substring in the string. Only the index of the first elment of substring in string will be the output\n",
        "\n",
        "name = \"Michael Jackson\"\n",
        "name.find('el')"
      ]
    },
    {
      "cell_type": "code",
      "execution_count": 44,
      "metadata": {},
      "outputs": [
        {
          "data": {
            "text/plain": [
              "8"
            ]
          },
          "execution_count": 44,
          "metadata": {},
          "output_type": "execute_result"
        }
      ],
      "source": [
        "# Find the substring in the string.\n",
        "\n",
        "name.find('Jack')"
      ]
    },
    {
      "cell_type": "code",
      "execution_count": 45,
      "metadata": {},
      "outputs": [
        {
          "data": {
            "text/plain": [
              "-1"
            ]
          },
          "execution_count": 45,
          "metadata": {},
          "output_type": "execute_result"
        }
      ],
      "source": [
        "# If cannot find the substring in the string\n",
        "\n",
        "name.find('Jasdfasdasdf')"
      ]
    },
    {
      "cell_type": "code",
      "execution_count": 46,
      "metadata": {},
      "outputs": [
        {
          "data": {
            "text/plain": [
              "'1'"
            ]
          },
          "execution_count": 46,
          "metadata": {},
          "output_type": "execute_result"
        }
      ],
      "source": [
        "# Write your code below and press Shift+Enter to execute \n",
        "\n",
        "a = \"1\"\n",
        "'1'"
      ]
    },
    {
      "cell_type": "code",
      "execution_count": 47,
      "metadata": {},
      "outputs": [
        {
          "data": {
            "text/plain": [
              "'2'"
            ]
          },
          "execution_count": 47,
          "metadata": {},
          "output_type": "execute_result"
        }
      ],
      "source": [
        "# Write your code below and press Shift+Enter to execute\n",
        "\n",
        "b = \"2\"\n",
        "'2'"
      ]
    },
    {
      "cell_type": "code",
      "execution_count": 48,
      "metadata": {},
      "outputs": [
        {
          "data": {
            "text/plain": [
              "'12'"
            ]
          },
          "execution_count": 48,
          "metadata": {},
          "output_type": "execute_result"
        }
      ],
      "source": [
        "# Write your code below and press Shift+Enter to execute \n",
        "\n",
        "c = a + b\n",
        "#'1' + '2' = '12'\n",
        "'12'\n",
        "c"
      ]
    },
    {
      "cell_type": "code",
      "execution_count": 49,
      "metadata": {},
      "outputs": [
        {
          "data": {
            "text/plain": [
              "'ABC'"
            ]
          },
          "execution_count": 49,
          "metadata": {},
          "output_type": "execute_result"
        }
      ],
      "source": [
        "# Write your code below and press Shift+Enter to execute\n",
        "\n",
        "d = \"ABCDEFG\"\n",
        "d[0:3]"
      ]
    },
    {
      "cell_type": "code",
      "execution_count": 50,
      "metadata": {},
      "outputs": [
        {
          "data": {
            "text/plain": [
              "'correct'"
            ]
          },
          "execution_count": 50,
          "metadata": {},
          "output_type": "execute_result"
        }
      ],
      "source": [
        "# Write your code below and press Shift+Enter to execute\n",
        "\n",
        "e = 'clocrkr1e1c1t'\n",
        "e[::2]"
      ]
    },
    {
      "cell_type": "code",
      "execution_count": 51,
      "metadata": {},
      "outputs": [
        {
          "name": "stdout",
          "output_type": "stream",
          "text": [
            "\\ \n"
          ]
        }
      ],
      "source": [
        "# Write your code below and press Shift+Enter to execute\n",
        "print(r'\\ ')"
      ]
    },
    {
      "cell_type": "code",
      "execution_count": 52,
      "metadata": {},
      "outputs": [
        {
          "data": {
            "text/plain": [
              "'YOU ARE WRONG'"
            ]
          },
          "execution_count": 52,
          "metadata": {},
          "output_type": "execute_result"
        }
      ],
      "source": [
        "# Write your code below and press Shift+Enter to execute\n",
        "\n",
        "f = \"You are wrong\"\n",
        "f.upper()"
      ]
    },
    {
      "cell_type": "code",
      "execution_count": 53,
      "metadata": {},
      "outputs": [
        {
          "data": {
            "text/plain": [
              "95"
            ]
          },
          "execution_count": 53,
          "metadata": {},
          "output_type": "execute_result"
        }
      ],
      "source": [
        "# Write your code below and press Shift+Enter to execute\n",
        "\n",
        "g = \"Mary had a little lamb Little lamb, little lamb Mary had a little lamb \\\n",
        "Its fleece was white as snow And everywhere that Mary went Mary went, Mary went \\\n",
        "Everywhere that Mary went The lamb was sure to go\"\n",
        "g.find('snow')"
      ]
    },
    {
      "cell_type": "code",
      "execution_count": 54,
      "metadata": {},
      "outputs": [
        {
          "data": {
            "text/plain": [
              "'Bob had a little lamb Little lamb, little lamb Bob had a little lamb Its fleece was white as snow And everywhere that Bob went Bob went, Bob went Everywhere that Bob went The lamb was sure to go'"
            ]
          },
          "execution_count": 54,
          "metadata": {},
          "output_type": "execute_result"
        }
      ],
      "source": [
        "# Write your code below and press Shift+Enter to execute\n",
        "g.replace('Mary','Bob')"
      ]
    },
    {
      "cell_type": "markdown",
      "metadata": {},
      "source": [
        "### **Review Questions**"
      ]
    },
    {
      "cell_type": "code",
      "execution_count": 55,
      "metadata": {},
      "outputs": [
        {
          "data": {
            "text/plain": [
              "7"
            ]
          },
          "execution_count": 55,
          "metadata": {},
          "output_type": "execute_result"
        }
      ],
      "source": [
        "3 + 2 * 2"
      ]
    },
    {
      "cell_type": "code",
      "execution_count": 56,
      "metadata": {},
      "outputs": [],
      "source": [
        "name = 'Lizz'"
      ]
    },
    {
      "cell_type": "code",
      "execution_count": 57,
      "metadata": {},
      "outputs": [
        {
          "name": "stdout",
          "output_type": "stream",
          "text": [
            "Li\n"
          ]
        }
      ],
      "source": [
        "print(name[0:2])"
      ]
    },
    {
      "cell_type": "code",
      "execution_count": 58,
      "metadata": {},
      "outputs": [],
      "source": [
        "var = '01234567'"
      ]
    },
    {
      "cell_type": "code",
      "execution_count": 59,
      "metadata": {},
      "outputs": [
        {
          "name": "stdout",
          "output_type": "stream",
          "text": [
            "0246\n"
          ]
        }
      ],
      "source": [
        "print(var[::2])"
      ]
    },
    {
      "cell_type": "code",
      "execution_count": 60,
      "metadata": {},
      "outputs": [
        {
          "data": {
            "text/plain": [
              "'12'"
            ]
          },
          "execution_count": 60,
          "metadata": {},
          "output_type": "execute_result"
        }
      ],
      "source": [
        "'1'+'2'"
      ]
    },
    {
      "cell_type": "code",
      "execution_count": 61,
      "metadata": {},
      "outputs": [],
      "source": [
        "myvar = 'hello'"
      ]
    },
    {
      "cell_type": "code",
      "execution_count": 62,
      "metadata": {},
      "outputs": [
        {
          "data": {
            "text/plain": [
              "'HELLO'"
            ]
          },
          "execution_count": 62,
          "metadata": {},
          "output_type": "execute_result"
        }
      ],
      "source": [
        "myvar.upper()"
      ]
    },
    {
      "cell_type": "markdown",
      "metadata": {},
      "source": [
        "## **Módulo 2: Python Data Structures**"
      ]
    },
    {
      "cell_type": "markdown",
      "metadata": {},
      "source": []
    }
  ],
  "metadata": {
    "colab": {
      "include_colab_link": true,
      "name": "assignment01.ipynb",
      "provenance": []
    },
    "kernelspec": {
      "display_name": "Python 3.9.12 ('base')",
      "language": "python",
      "name": "python3"
    },
    "language_info": {
      "codemirror_mode": {
        "name": "ipython",
        "version": 3
      },
      "file_extension": ".py",
      "mimetype": "text/x-python",
      "name": "python",
      "nbconvert_exporter": "python",
      "pygments_lexer": "ipython3",
      "version": "3.9.12"
    },
    "vscode": {
      "interpreter": {
        "hash": "8607d81fc6318cb05ed35a8010608a8fe3010a47ba3e0e927835a55241641039"
      }
    }
  },
  "nbformat": 4,
  "nbformat_minor": 0
}
