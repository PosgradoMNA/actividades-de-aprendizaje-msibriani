{
 "cells": [
  {
   "cell_type": "markdown",
   "metadata": {},
   "source": [
    "# **Maestría en Inteligencia Artificial Aplicada**\n",
    "## **Curso: Ciencia y analítica de datos**\n",
    "### Tecnológico de Monterrey"
   ]
  },
  {
   "cell_type": "markdown",
   "metadata": {},
   "source": [
    "#### **Nombre:** Matthias Sibrian Illescas\n",
    "\n",
    "#### **Matrícula:** a01794249"
   ]
  },
  {
   "cell_type": "markdown",
   "metadata": {},
   "source": [
    "# **Módulo 2: Data Analysis with Python (IBM)**"
   ]
  },
  {
   "cell_type": "markdown",
   "metadata": {},
   "source": [
    "## **Módulo 2: Data Wrangling**"
   ]
  },
  {
   "cell_type": "markdown",
   "metadata": {},
   "source": [
    "El preprocesamiento de datos, que también se conoce como 'data wrangling', es el paso en el que se normaliza, se eliminan datos nulos o faltantes, en el que se aplica transformaciones de datos, etc.\n",
    "\n",
    "Una de las técnicas de limpieza de datos es conocida como 'data wrangling'. Dentro de este concepto, se engloba el uso de la función siguiente:\n",
    "\n",
    "dataframes.dropna()\n",
    "\n",
    "Con esta función, se elimina los datos nulos para evitar introducirlos a modelos.\n",
    "\n",
    "Otro aspecto importante es el formatting de la data, la cual puede modificarse a través de funciones de cambio de nombres de columnas, como:\n",
    "\n",
    "dataframe.rename()\n",
    "\n",
    "Otro aspecto importante es la normalización de datos. A través de esta técnica, se corrobora que una característica no tenga una incidencia injustamente mayor sobre otra al momento de generar los modelos.\n",
    "\n",
    "Para agrupar los valores numéricos, también se puede usar binning, que los coloca en rangos más utilizables. Esto es lo que se hace en histogramas por ejemplo, en donde se hace binning para poder agrupar en datos más utilizables.\n",
    "\n",
    "Por último, está el concepto del 'One-Hot Encoder'. Con él, se permite convertir valores categóricos en valores numéricos, dado que muchos de los modelos de ML necesitan valores numéricos."
   ]
  },
  {
   "cell_type": "markdown",
   "metadata": {},
   "source": []
  }
 ],
 "metadata": {
  "kernelspec": {
   "display_name": "Python 3.9.12 ('base')",
   "language": "python",
   "name": "python3"
  },
  "language_info": {
   "name": "python",
   "version": "3.9.12"
  },
  "orig_nbformat": 4,
  "vscode": {
   "interpreter": {
    "hash": "8607d81fc6318cb05ed35a8010608a8fe3010a47ba3e0e927835a55241641039"
   }
  }
 },
 "nbformat": 4,
 "nbformat_minor": 2
}
