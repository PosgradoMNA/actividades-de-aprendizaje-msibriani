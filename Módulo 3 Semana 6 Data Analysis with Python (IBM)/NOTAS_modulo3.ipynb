{
 "cells": [
  {
   "cell_type": "markdown",
   "metadata": {},
   "source": [
    "# **Maestría en Inteligencia Artificial Aplicada**\n",
    "## **Curso: Ciencia y analítica de datos**\n",
    "### Tecnológico de Monterrey"
   ]
  },
  {
   "cell_type": "markdown",
   "metadata": {},
   "source": [
    "#### **Nombre:** Matthias Sibrian Illescas\n",
    "\n",
    "#### **Matrícula:** a01794249"
   ]
  },
  {
   "cell_type": "markdown",
   "metadata": {},
   "source": [
    "# **Módulo 3: Data Analysis with Python (IBM)**"
   ]
  },
  {
   "cell_type": "markdown",
   "metadata": {},
   "source": [
    "## **Módulo 3: Exploratory Data Analysis**"
   ]
  },
  {
   "cell_type": "markdown",
   "metadata": {},
   "source": [
    "Exploratory Data Analysis es el proceso a través del cual se sumariza las principales características de un dataset con el fin de sumarizarlo y poderlo describir de una forma más sencilla y completa. \n",
    "\n",
    "Por otro lado, la estadística descriptiva son medidas que se calculan de los datasets con el fin de tener un vistazo de la data como tal. Una función de importante es describe() de Pandas:\n",
    "\n",
    "df.describe()\n",
    "\n",
    "Otra función útil es la de value_counts(), la cual se usa de la siguiente manera:\n",
    "\n",
    "df.value_counts()\n",
    "\n",
    "Esta función es muy útil para sumarizar data categórica.\n",
    "\n",
    "Asimismo, se puede usar la función de group by en Pandas para poder agrupar la información en subconjuntos muy útiles."
   ]
  },
  {
   "cell_type": "markdown",
   "metadata": {},
   "source": [
    "ANOVA es un método estadístico que encuentra la correlación entre diferentes grupos de una variable categórica. La función devuelve dos métricas: el valor f resultante y el valor p."
   ]
  },
  {
   "cell_type": "markdown",
   "metadata": {},
   "source": [
    "Otro aspecto importante en la correlación de Pearson es el coeficiente de correlación y el valor p. Con el primero, oscila entre -1 a 1, dependiendo de si es una correlación positiva o negativa. Con el segundo, se calcula en base a la confianza del coeficiente anterior."
   ]
  }
 ],
 "metadata": {
  "kernelspec": {
   "display_name": "Python 3.9.12 ('base')",
   "language": "python",
   "name": "python3"
  },
  "language_info": {
   "name": "python",
   "version": "3.9.12"
  },
  "orig_nbformat": 4,
  "vscode": {
   "interpreter": {
    "hash": "8607d81fc6318cb05ed35a8010608a8fe3010a47ba3e0e927835a55241641039"
   }
  }
 },
 "nbformat": 4,
 "nbformat_minor": 2
}
